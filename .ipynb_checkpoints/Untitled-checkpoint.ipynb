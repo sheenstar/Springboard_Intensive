{
 "cells": [
  {
   "cell_type": "code",
   "execution_count": null,
   "metadata": {
    "collapsed": true
   },
   "outputs": [],
   "source": [
    "fig = plt.figure()\n",
    "ax = fig.add_subplot(111)\n",
    "\n",
    "n = 3\n",
    "x_pos = np.arange(n)\n",
    "width = .3\n",
    "\n",
    "y = [Pr1, Pr2, Pr3]\n",
    "y2 = [Po1, Po2, Po3]\n",
    "\n",
    "x = range(len(y))\n",
    "x2 = range(len(y2))\n",
    "\n",
    "\n",
    "rects1 = ax.bar(x_pos, y, width,\n",
    "                color='black')\n",
    "\n",
    "rects2 = ax.bar(x_pos + width, y2, width,\n",
    "                    color='red')\n",
    "\n",
    "#ax.set_xlim(-width,len(x_pos)+width)\n",
    "ax.set_ylim(0,10)\n",
    "ax.set_ylabel('Mean value')\n",
    "ax.set_title('Scores by group and timepoints')\n",
    "ax.set_xticks(x_pos+width)\n",
    "ax.set_xticklabels(['h','b', 'y'])\n",
    "## add a legend\n",
    "ax.legend( (rects1[0], rects2[0]), ('Pre', 'Post') )\n",
    "\n",
    "plt.show()"
   ]
  }
 ],
 "metadata": {
  "kernelspec": {
   "display_name": "Python 2",
   "language": "python",
   "name": "python2"
  },
  "language_info": {
   "codemirror_mode": {
    "name": "ipython",
    "version": 2
   },
   "file_extension": ".py",
   "mimetype": "text/x-python",
   "name": "python",
   "nbconvert_exporter": "python",
   "pygments_lexer": "ipython2",
   "version": "2.7.12"
  }
 },
 "nbformat": 4,
 "nbformat_minor": 0
}
