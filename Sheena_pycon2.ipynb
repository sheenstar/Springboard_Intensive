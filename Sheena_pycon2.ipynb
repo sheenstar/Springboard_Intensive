{
 "cells": [
  {
   "cell_type": "code",
   "execution_count": 144,
   "metadata": {
    "collapsed": false
   },
   "outputs": [],
   "source": [
    "%matplotlib inline\n",
    "import pandas as pd"
   ]
  },
  {
   "cell_type": "code",
   "execution_count": 145,
   "metadata": {
    "collapsed": false
   },
   "outputs": [
    {
     "data": {
      "text/html": [
       "<style>body {\n",
       "    margin: 0;\n",
       "    font-family: Helvetica;\n",
       "}\n",
       "table.dataframe {\n",
       "    border-collapse: collapse;\n",
       "    border: none;\n",
       "}\n",
       "table.dataframe tr {\n",
       "    border: none;\n",
       "}\n",
       "table.dataframe td, table.dataframe th {\n",
       "    margin: 0;\n",
       "    border: 1px solid white;\n",
       "    padding-left: 0.25em;\n",
       "    padding-right: 0.25em;\n",
       "}\n",
       "table.dataframe th:not(:empty) {\n",
       "    background-color: #fec;\n",
       "    text-align: left;\n",
       "    font-weight: normal;\n",
       "}\n",
       "table.dataframe tr:nth-child(2) th:empty {\n",
       "    border-left: none;\n",
       "    border-right: 1px dashed #888;\n",
       "}\n",
       "table.dataframe td {\n",
       "    border: 2px solid #ccf;\n",
       "    background-color: #f4f4ff;\n",
       "}\n",
       "h3 {\n",
       "    color: white;\n",
       "    background-color: black;\n",
       "    padding: 0.5em;\n",
       "}\n",
       "</style>"
      ],
      "text/plain": [
       "<IPython.core.display.HTML object>"
      ]
     },
     "execution_count": 145,
     "metadata": {},
     "output_type": "execute_result"
    }
   ],
   "source": [
    "from IPython.core.display import HTML\n",
    "css = open('style-table.css').read() + open('style-notebook.css').read()\n",
    "HTML('<style>{}</style>'.format(css))"
   ]
  },
  {
   "cell_type": "code",
   "execution_count": 162,
   "metadata": {
    "collapsed": false
   },
   "outputs": [
    {
     "data": {
      "text/html": [
       "<div>\n",
       "<table border=\"1\" class=\"dataframe\">\n",
       "  <thead>\n",
       "    <tr style=\"text-align: right;\">\n",
       "      <th></th>\n",
       "      <th>title</th>\n",
       "      <th>year</th>\n",
       "    </tr>\n",
       "  </thead>\n",
       "  <tbody>\n",
       "    <tr>\n",
       "      <th>0</th>\n",
       "      <td>The Rising Son</td>\n",
       "      <td>1990</td>\n",
       "    </tr>\n",
       "    <tr>\n",
       "      <th>1</th>\n",
       "      <td>The Thousand Plane Raid</td>\n",
       "      <td>1969</td>\n",
       "    </tr>\n",
       "    <tr>\n",
       "      <th>2</th>\n",
       "      <td>Crucea de piatra</td>\n",
       "      <td>1993</td>\n",
       "    </tr>\n",
       "    <tr>\n",
       "      <th>3</th>\n",
       "      <td>Country</td>\n",
       "      <td>2000</td>\n",
       "    </tr>\n",
       "    <tr>\n",
       "      <th>4</th>\n",
       "      <td>Gaiking II</td>\n",
       "      <td>2011</td>\n",
       "    </tr>\n",
       "  </tbody>\n",
       "</table>\n",
       "</div>"
      ],
      "text/plain": [
       "                     title  year\n",
       "0           The Rising Son  1990\n",
       "1  The Thousand Plane Raid  1969\n",
       "2         Crucea de piatra  1993\n",
       "3                  Country  2000\n",
       "4               Gaiking II  2011"
      ]
     },
     "execution_count": 162,
     "metadata": {},
     "output_type": "execute_result"
    }
   ],
   "source": [
    "titles = pd.DataFrame.from_csv('data/titles.csv', index_col=None)\n",
    "titles.head()"
   ]
  },
  {
   "cell_type": "code",
   "execution_count": 163,
   "metadata": {
    "collapsed": false
   },
   "outputs": [
    {
     "data": {
      "text/html": [
       "<div>\n",
       "<table border=\"1\" class=\"dataframe\">\n",
       "  <thead>\n",
       "    <tr style=\"text-align: right;\">\n",
       "      <th></th>\n",
       "      <th>title</th>\n",
       "      <th>year</th>\n",
       "      <th>name</th>\n",
       "      <th>type</th>\n",
       "      <th>character</th>\n",
       "      <th>n</th>\n",
       "    </tr>\n",
       "  </thead>\n",
       "  <tbody>\n",
       "    <tr>\n",
       "      <th>0</th>\n",
       "      <td>Suuri illusioni</td>\n",
       "      <td>1985</td>\n",
       "      <td>Homo $</td>\n",
       "      <td>actor</td>\n",
       "      <td>Guests</td>\n",
       "      <td>22.0</td>\n",
       "    </tr>\n",
       "    <tr>\n",
       "      <th>1</th>\n",
       "      <td>Battle of the Sexes</td>\n",
       "      <td>2017</td>\n",
       "      <td>$hutter</td>\n",
       "      <td>actor</td>\n",
       "      <td>Bobby Riggs Fan</td>\n",
       "      <td>10.0</td>\n",
       "    </tr>\n",
       "    <tr>\n",
       "      <th>2</th>\n",
       "      <td>Secret in Their Eyes</td>\n",
       "      <td>2015</td>\n",
       "      <td>$hutter</td>\n",
       "      <td>actor</td>\n",
       "      <td>2002 Dodger Fan</td>\n",
       "      <td>NaN</td>\n",
       "    </tr>\n",
       "    <tr>\n",
       "      <th>3</th>\n",
       "      <td>Steve Jobs</td>\n",
       "      <td>2015</td>\n",
       "      <td>$hutter</td>\n",
       "      <td>actor</td>\n",
       "      <td>1988 Opera House Patron</td>\n",
       "      <td>NaN</td>\n",
       "    </tr>\n",
       "    <tr>\n",
       "      <th>4</th>\n",
       "      <td>Straight Outta Compton</td>\n",
       "      <td>2015</td>\n",
       "      <td>$hutter</td>\n",
       "      <td>actor</td>\n",
       "      <td>Club Patron</td>\n",
       "      <td>NaN</td>\n",
       "    </tr>\n",
       "  </tbody>\n",
       "</table>\n",
       "</div>"
      ],
      "text/plain": [
       "                    title  year     name   type                character     n\n",
       "0         Suuri illusioni  1985   Homo $  actor                   Guests  22.0\n",
       "1     Battle of the Sexes  2017  $hutter  actor          Bobby Riggs Fan  10.0\n",
       "2    Secret in Their Eyes  2015  $hutter  actor          2002 Dodger Fan   NaN\n",
       "3              Steve Jobs  2015  $hutter  actor  1988 Opera House Patron   NaN\n",
       "4  Straight Outta Compton  2015  $hutter  actor              Club Patron   NaN"
      ]
     },
     "execution_count": 163,
     "metadata": {},
     "output_type": "execute_result"
    }
   ],
   "source": [
    "cast = pd.DataFrame.from_csv('data/cast.csv', index_col=None)\n",
    "cast.head()"
   ]
  },
  {
   "cell_type": "markdown",
   "metadata": {
    "collapsed": true
   },
   "source": [
    "### What are the ten most common movie names of all time?"
   ]
  },
  {
   "cell_type": "code",
   "execution_count": 8,
   "metadata": {
    "collapsed": false
   },
   "outputs": [
    {
     "data": {
      "text/plain": [
       "Hamlet                         19\n",
       "Carmen                         15\n",
       "Macbeth                        15\n",
       "The Outsider                   11\n",
       "Hero                           11\n",
       "Othello                        11\n",
       "Maya                           11\n",
       "The Three Musketeers           11\n",
       "Kismet                         10\n",
       "Honeymoon                      10\n",
       "Temptation                     10\n",
       "Anna                           10\n",
       "She                            10\n",
       "Vengeance                      10\n",
       "Freedom                        10\n",
       "Anna Karenina                  10\n",
       "Paradise                       10\n",
       "Blood Money                     9\n",
       "Bad Blood                       9\n",
       "The Promise                     9\n",
       "Hide and Seek                   9\n",
       "Dead End                        9\n",
       "Wanted                          9\n",
       "Ultimatum                       9\n",
       "A Midsummer Night's Dream       9\n",
       "Surrender                       9\n",
       "Love                            9\n",
       "Cinderella                      9\n",
       "Underground                     9\n",
       "Victory                         9\n",
       "                               ..\n",
       "Theatre and Me's the Bully      1\n",
       "Of Brest                        1\n",
       "Paura                           1\n",
       "8th March                       1\n",
       "Zayiat                          1\n",
       "The Ilkley Green                1\n",
       "Love Will Tear Us Apart         1\n",
       "Detectives                      1\n",
       "Estigma de terror               1\n",
       "Here Come the Huggetts          1\n",
       "The Big Bonanza                 1\n",
       "They Crawl                      1\n",
       "Umeyete li vy zhit?             1\n",
       "Rah raftan rouye rail           1\n",
       "Anytown                         1\n",
       "Ultimate Master                 1\n",
       "Night Train to Lisbon           1\n",
       "One a Minute                    1\n",
       "Xiao feng xian xu ji            1\n",
       "Viva la risa                    1\n",
       "Geld ins Haus                   1\n",
       "Tip Top                         1\n",
       "Startled                        1\n",
       "Nak leng pa sak                 1\n",
       "RiffTrax Live: Time Chasers     1\n",
       "El secreto del testamento       1\n",
       "Medusa (IV)                     1\n",
       "Sommarmord                      1\n",
       "Strawberry Cliff                1\n",
       "Howling at the Moon             1\n",
       "Name: title, dtype: int64"
      ]
     },
     "execution_count": 8,
     "metadata": {},
     "output_type": "execute_result"
    }
   ],
   "source": [
    "titles.title.value_counts()"
   ]
  },
  {
   "cell_type": "code",
   "execution_count": null,
   "metadata": {
    "collapsed": true
   },
   "outputs": [],
   "source": []
  },
  {
   "cell_type": "markdown",
   "metadata": {
    "collapsed": true
   },
   "source": [
    "### Which three years of the 1930s saw the most films released?"
   ]
  },
  {
   "cell_type": "code",
   "execution_count": 10,
   "metadata": {
    "collapsed": false
   },
   "outputs": [],
   "source": [
    "a = titles[(titles.year >= 1930) & (titles.year <= 1939)]"
   ]
  },
  {
   "cell_type": "code",
   "execution_count": 11,
   "metadata": {
    "collapsed": false
   },
   "outputs": [
    {
     "data": {
      "text/plain": [
       "1937    1190\n",
       "1936    1133\n",
       "1938    1127\n",
       "1939    1060\n",
       "1935    1047\n",
       "1934     963\n",
       "1932     932\n",
       "1933     893\n",
       "1931     882\n",
       "1930     819\n",
       "Name: year, dtype: int64"
      ]
     },
     "execution_count": 11,
     "metadata": {},
     "output_type": "execute_result"
    }
   ],
   "source": [
    "a.year.value_counts()"
   ]
  },
  {
   "cell_type": "markdown",
   "metadata": {
    "collapsed": true
   },
   "source": [
    "### Plot the number of films that have been released each decade over the history of cinema."
   ]
  },
  {
   "cell_type": "code",
   "execution_count": 22,
   "metadata": {
    "collapsed": false
   },
   "outputs": [
    {
     "data": {
      "text/plain": [
       "<matplotlib.axes._subplots.AxesSubplot at 0x1145b6950>"
      ]
     },
     "execution_count": 22,
     "metadata": {},
     "output_type": "execute_result"
    },
    {
     "data": {
      "image/png": "[encoded data removed]",
      "text/plain": [
       "<matplotlib.figure.Figure at 0x11defb050>"
      ]
     },
     "metadata": {},
     "output_type": "display_data"
    }
   ],
   "source": [
    "b = titles.year // 10*10\n",
    "b.value_counts().sort_index().plot(kind='bar')"
   ]
  },
  {
   "cell_type": "code",
   "execution_count": null,
   "metadata": {
    "collapsed": true
   },
   "outputs": [],
   "source": []
  },
  {
   "cell_type": "markdown",
   "metadata": {
    "collapsed": true
   },
   "source": [
    "### Plot the number of \"Hamlet\" films made each decade."
   ]
  },
  {
   "cell_type": "code",
   "execution_count": 54,
   "metadata": {
    "collapsed": false
   },
   "outputs": [
    {
     "data": {
      "text/plain": [
       "207471    1910\n",
       "164423    1910\n",
       "46237     1910\n",
       "97411     1920\n",
       "5925      1940\n",
       "126900    1950\n",
       "180784    1960\n",
       "121308    1960\n",
       "218955    1970\n",
       "91048     1970\n",
       "93226     1980\n",
       "44880     1990\n",
       "198944    1990\n",
       "173962    2000\n",
       "93425     2000\n",
       "39761     2010\n",
       "205150    2010\n",
       "27834     2010\n",
       "221023    2010\n",
       "Name: year, dtype: int64"
      ]
     },
     "execution_count": 54,
     "metadata": {},
     "output_type": "execute_result"
    }
   ],
   "source": [
    "Ham = titles[titles.title == 'Hamlet']\n",
    "Ham2 = Ham.year // 10 * 10\n",
    "d = Ham2.sort_values()\n",
    "d"
   ]
  },
  {
   "cell_type": "code",
   "execution_count": null,
   "metadata": {
    "collapsed": true
   },
   "outputs": [],
   "source": []
  },
  {
   "cell_type": "markdown",
   "metadata": {
    "collapsed": true
   },
   "source": [
    "### Plot the number of \"Rustler\" characters in each decade of the history of film."
   ]
  },
  {
   "cell_type": "code",
   "execution_count": 42,
   "metadata": {
    "collapsed": false
   },
   "outputs": [
    {
     "data": {
      "text/plain": [
       "<matplotlib.axes._subplots.AxesSubplot at 0x11db2e290>"
      ]
     },
     "execution_count": 42,
     "metadata": {},
     "output_type": "execute_result"
    },
    {
     "data": {
      "image/png": "[encoded data removed]",
      "text/plain": [
       "<matplotlib.figure.Figure at 0x11db3f150>"
      ]
     },
     "metadata": {},
     "output_type": "display_data"
    }
   ],
   "source": [
    "Rus = cast[cast.character == 'Rustler']\n",
    "(Rus.year // 10 * 10).value_counts().sort_index().plot(kind='bar')"
   ]
  },
  {
   "cell_type": "code",
   "execution_count": null,
   "metadata": {
    "collapsed": true
   },
   "outputs": [],
   "source": []
  },
  {
   "cell_type": "markdown",
   "metadata": {
    "collapsed": true
   },
   "source": [
    "### Plot the number of \"Hamlet\" characters each decade."
   ]
  },
  {
   "cell_type": "code",
   "execution_count": null,
   "metadata": {
    "collapsed": true
   },
   "outputs": [],
   "source": []
  },
  {
   "cell_type": "code",
   "execution_count": null,
   "metadata": {
    "collapsed": true
   },
   "outputs": [],
   "source": []
  },
  {
   "cell_type": "markdown",
   "metadata": {
    "collapsed": true
   },
   "source": [
    "### What are the 11 most common character names in movie history?"
   ]
  },
  {
   "cell_type": "code",
   "execution_count": 56,
   "metadata": {
    "collapsed": false
   },
   "outputs": [
    {
     "data": {
      "text/plain": [
       "Himself                         19468\n",
       "Dancer                          11855\n",
       "Extra                           10648\n",
       "Reporter                         8041\n",
       "Doctor                           7312\n",
       "Student                          6920\n",
       "Policeman                        6800\n",
       "Party Guest                      6626\n",
       "Nurse                            6523\n",
       "Bartender                        6498\n",
       "Minor Role                       6170\n",
       "Zombie                           5914\n",
       "Herself                          5848\n",
       "Townsman                         5484\n",
       "Waiter                           5182\n",
       "Henchman                         4939\n",
       "Waitress                         4472\n",
       "Soldier                          4447\n",
       "Bar Patron                       4395\n",
       "Police Officer                   4365\n",
       "Detective                        3717\n",
       "Singer                           3104\n",
       "Cop                              3021\n",
       "Guard                            2902\n",
       "Priest                           2884\n",
       "Barfly                           2861\n",
       "Additional Voices                2855\n",
       "Mother                           2828\n",
       "Maria                            2698\n",
       "Sam                              2667\n",
       "                                ...  \n",
       "Nita R. Kumar                       1\n",
       "Reeder Heinrich Averhoff            1\n",
       "Hengel                              1\n",
       "Charnelle                           1\n",
       "Yoki's Owner                        1\n",
       "Ellie May Adams                     1\n",
       "Native Bridge Guard                 1\n",
       "Judge Frank Sturgis                 1\n",
       "Lucky Saunders                      1\n",
       "Screaming 'bitch' Guy               1\n",
       "The Cigar KING of New Jersey        1\n",
       "Caverns Manager                     1\n",
       "Gay Foreigner's Escort #2           1\n",
       "Johann Krausen                      1\n",
       "Sir Galahad - Radio DJ              1\n",
       "The Postal Servant                  1\n",
       "G?n?ral von Choltitz                1\n",
       "Lover in Study                      1\n",
       "Bald Guy (Sushi Shop)               1\n",
       "Little Boy's Da                     1\n",
       "Looking Glass                       1\n",
       "Laffing Stock MC                    1\n",
       "Leutnant Karl von Conradi           1\n",
       "Racetrack Detective                 1\n",
       "Gilda Norman                        1\n",
       "Capt. Charteris                     1\n",
       "Holly Brewer                        1\n",
       "Pieto                               1\n",
       "FNN Reporter                        1\n",
       "Det. McQueen                        1\n",
       "Name: character, dtype: int64"
      ]
     },
     "execution_count": 56,
     "metadata": {},
     "output_type": "execute_result"
    }
   ],
   "source": [
    "cast.character.value_counts()"
   ]
  },
  {
   "cell_type": "code",
   "execution_count": null,
   "metadata": {
    "collapsed": true
   },
   "outputs": [],
   "source": []
  },
  {
   "cell_type": "markdown",
   "metadata": {
    "collapsed": true
   },
   "source": [
    "### Who are the 10 people most often credited as \"Herself\" in film history?"
   ]
  },
  {
   "cell_type": "code",
   "execution_count": 60,
   "metadata": {
    "collapsed": false
   },
   "outputs": [
    {
     "data": {
      "text/plain": [
       "Joyce Brothers                      14\n",
       "Queen Elizabeth II                  11\n",
       "Margaret Thatcher                    7\n",
       "Mary Jo Pehl                         7\n",
       "Joan Rivers                          6\n",
       "Bunny Yeager                         5\n",
       "Rekha                                5\n",
       "Kareena Kapoor                       5\n",
       "Hillary Clinton                      5\n",
       "Marilyn Monroe                       5\n",
       "Caroline Rhea                        5\n",
       "Celia Cruz                           4\n",
       "Eve Becke                            4\n",
       "Martha (II) Stewart                  4\n",
       "Princess Diana                       4\n",
       "Bessie Love                          4\n",
       "Mary Pickford                        4\n",
       "Terry Moore                          4\n",
       "Sally Jessy Raphael                  4\n",
       "La Rosa Negra                        4\n",
       "Oprah Winfrey                        4\n",
       "Petula Clark                         4\n",
       "Kacee Carlisle                       4\n",
       "Minnie Pearl                         4\n",
       "Carmen Electra                       4\n",
       "Corazon Aquino                       4\n",
       "Queen Elizabeth the Queen Mother     4\n",
       "Pat Nixon                            4\n",
       "Whoopi Goldberg                      4\n",
       "Lily Morris                          4\n",
       "                                    ..\n",
       "Nara Le?o                            1\n",
       "Traci Turner                         1\n",
       "Val?rie Lalonde                      1\n",
       "Jessica Aguilar                      1\n",
       "Taylor Wayne                         1\n",
       "Katy Goodman                         1\n",
       "Tanja Zagar                          1\n",
       "Nadine Kr?ger                        1\n",
       "Laura Cardoso                        1\n",
       "Isa Miranda                          1\n",
       "Jolanta Kosa Kossakowska             1\n",
       "Linda Stasi                          1\n",
       "Rita Hayworth                        1\n",
       "Gypsy (XII)                          1\n",
       "Sachiko Kobayashi                    1\n",
       "Saeko Ozuki                          1\n",
       "Paula (III) Kelly                    1\n",
       "Robin Tunney                         1\n",
       "Marjo Sundstr?m                      1\n",
       "Nena Velazquez                       1\n",
       "Melanie Shalom                       1\n",
       "Muffy Moose                          1\n",
       "Sade                                 1\n",
       "Lisa Ekdahl                          1\n",
       "Libby Morris                         1\n",
       "Joyce DeWitt                         1\n",
       "La Polaca                            1\n",
       "Ellen H. Schwartz                    1\n",
       "Buffie Carruth                       1\n",
       "Mabel Garrido                        1\n",
       "Name: name, dtype: int64"
      ]
     },
     "execution_count": 60,
     "metadata": {},
     "output_type": "execute_result"
    }
   ],
   "source": [
    "e = cast[cast.character == \"Herself\"]\n",
    "e.name.value_counts()"
   ]
  },
  {
   "cell_type": "code",
   "execution_count": null,
   "metadata": {
    "collapsed": true
   },
   "outputs": [],
   "source": []
  },
  {
   "cell_type": "markdown",
   "metadata": {
    "collapsed": true
   },
   "source": [
    "### Who are the 10 people most often credited as \"Himself\" in film history?"
   ]
  },
  {
   "cell_type": "code",
   "execution_count": null,
   "metadata": {
    "collapsed": true
   },
   "outputs": [],
   "source": []
  },
  {
   "cell_type": "code",
   "execution_count": null,
   "metadata": {
    "collapsed": true
   },
   "outputs": [],
   "source": []
  },
  {
   "cell_type": "markdown",
   "metadata": {
    "collapsed": true
   },
   "source": [
    "### Which actors or actresses appeared in the most movies in the year 1945?"
   ]
  },
  {
   "cell_type": "code",
   "execution_count": 61,
   "metadata": {
    "collapsed": true
   },
   "outputs": [],
   "source": [
    "f = cast[cast.year == 1945]"
   ]
  },
  {
   "cell_type": "code",
   "execution_count": 62,
   "metadata": {
    "collapsed": false
   },
   "outputs": [
    {
     "data": {
      "text/plain": [
       "Emmett Vogan              39\n",
       "Sam (II) Harris           32\n",
       "Bess Flowers              29\n",
       "Harold Miller             29\n",
       "Nolan Leary               27\n",
       "Frank O'Connor            27\n",
       "Larry Steers              25\n",
       "Franklyn Farnum           25\n",
       "Tom London                24\n",
       "Herman Hack               24\n",
       "Charles Sullivan          24\n",
       "Edmund Cobb               24\n",
       "Pierre Watkin             24\n",
       "Bud Osborne               23\n",
       "Addison Richards          23\n",
       "Kenner G. Kemp            23\n",
       "Horace B. Carpenter       23\n",
       "Byron Foulger             22\n",
       "Chester Clute             22\n",
       "Jack Ingram               22\n",
       "Arthur Loft               22\n",
       "Lee Phelps                22\n",
       "Budd Buster               22\n",
       "Jack O'Shea               21\n",
       "James Conaty              21\n",
       "Milton Kibbee             21\n",
       "Edward Gargan             21\n",
       "Rex Lease                 21\n",
       "Al Ferguson               21\n",
       "John (II) Tyrrell         20\n",
       "                          ..\n",
       "Karl-Ewert Christenson     1\n",
       "Leo Murtin                 1\n",
       "Inge W?rn                  1\n",
       "Jan Bryant                 1\n",
       "Michael Joseph Ward        1\n",
       "Buck Pennington            1\n",
       "Robert (IV) Ross           1\n",
       "Ann Blyth                  1\n",
       "Kiriakos Mavreas           1\n",
       "Jay Presson Allen          1\n",
       "Dmitri Pavlov              1\n",
       "Wally Dean                 1\n",
       "Bill Thirlaway             1\n",
       "Yasuo Hisamatsu            1\n",
       "Jean Werner                1\n",
       "Conchita S?enz             1\n",
       "Giuliana Pitti             1\n",
       "Himalaywala                1\n",
       "Ralph Miele                1\n",
       "Leyla Badirbayli           1\n",
       "Wilfred Walter             1\n",
       "Tempe Pigott               1\n",
       "Elizabeth Patterson        1\n",
       "Birger Malmsten            1\n",
       "Gene Leslie                1\n",
       "Rean Tibeau                1\n",
       "Kote Daushvili             1\n",
       "Irene Tedrow               1\n",
       "Eilene Janssen             1\n",
       "Jacqueline Huber           1\n",
       "Name: name, dtype: int64"
      ]
     },
     "execution_count": 62,
     "metadata": {},
     "output_type": "execute_result"
    }
   ],
   "source": [
    "f.name.value_counts()"
   ]
  },
  {
   "cell_type": "markdown",
   "metadata": {
    "collapsed": true
   },
   "source": [
    "### Which actors or actresses appeared in the most movies in the year 1985?"
   ]
  },
  {
   "cell_type": "code",
   "execution_count": null,
   "metadata": {
    "collapsed": true
   },
   "outputs": [],
   "source": []
  },
  {
   "cell_type": "code",
   "execution_count": null,
   "metadata": {
    "collapsed": true
   },
   "outputs": [],
   "source": []
  },
  {
   "cell_type": "markdown",
   "metadata": {
    "collapsed": true
   },
   "source": [
    "### Plot how many roles Mammootty has played in each year of his career."
   ]
  },
  {
   "cell_type": "code",
   "execution_count": 64,
   "metadata": {
    "collapsed": false
   },
   "outputs": [
    {
     "data": {
      "text/plain": [
       "<matplotlib.axes._subplots.AxesSubplot at 0x117dbdd10>"
      ]
     },
     "execution_count": 64,
     "metadata": {},
     "output_type": "execute_result"
    },
    {
     "data": {
      "image/png": "[encoded data removed]",
      "text/plain": [
       "<matplotlib.figure.Figure at 0x11e065e50>"
      ]
     },
     "metadata": {},
     "output_type": "display_data"
    }
   ],
   "source": [
    "g = cast[cast.name == 'Mammootty']\n",
    "(g.year // 10 * 10).value_counts().sort_index().plot(kind='bar')"
   ]
  },
  {
   "cell_type": "code",
   "execution_count": null,
   "metadata": {
    "collapsed": true
   },
   "outputs": [],
   "source": []
  },
  {
   "cell_type": "markdown",
   "metadata": {
    "collapsed": true
   },
   "source": [
    "### What are the 10 most frequent roles that start with the phrase \"Patron in\"?"
   ]
  },
  {
   "cell_type": "code",
   "execution_count": null,
   "metadata": {
    "collapsed": true
   },
   "outputs": [],
   "source": []
  },
  {
   "cell_type": "code",
   "execution_count": null,
   "metadata": {
    "collapsed": true
   },
   "outputs": [],
   "source": []
  },
  {
   "cell_type": "markdown",
   "metadata": {
    "collapsed": true
   },
   "source": [
    "### What are the 10 most frequent roles that start with the word \"Science\"?"
   ]
  },
  {
   "cell_type": "code",
   "execution_count": 70,
   "metadata": {
    "collapsed": false
   },
   "outputs": [
    {
     "data": {
      "text/plain": [
       "Science Teacher              57\n",
       "Science Student               9\n",
       "Science Fair Student          9\n",
       "Science Promo Cadet           5\n",
       "Science Club Member           5\n",
       "Science Fair Judge            5\n",
       "Science Kid                   5\n",
       "Science Reporter              5\n",
       "Science Fair Kid              3\n",
       "Science teacher               3\n",
       "Science Officer               3\n",
       "Science                       3\n",
       "Science Fair Teacher          3\n",
       "Science Guy                   2\n",
       "Science Class Student         2\n",
       "Science Fair Crowd Member     2\n",
       "Science Kid #1                2\n",
       "Science Minister              1\n",
       "Science Lab Guard 2           1\n",
       "Science Fair Mom              1\n",
       "Science Technician            1\n",
       "Science Performer 2           1\n",
       "Science Performer 3           1\n",
       "Science Tech #3               1\n",
       "Science Tech #2               1\n",
       "Science Apprentice            1\n",
       "Science School Teacher        1\n",
       "Science Woman                 1\n",
       "Science Officer 2             1\n",
       "Science Teacher Zombie        1\n",
       "                             ..\n",
       "Science Lab Guard             1\n",
       "Science Officer 0718          1\n",
       "Science Boy                   1\n",
       "Science Date                  1\n",
       "Science Instructor            1\n",
       "Science Agency Director       1\n",
       "Science Fair Competition      1\n",
       "Science Officer 1             1\n",
       "Science Monk                  1\n",
       "Science Performer 1           1\n",
       "Science Monk's Assistant      1\n",
       "Science Officer Saline        1\n",
       "Science lover                 1\n",
       "Science Team Elder            1\n",
       "Science Nerd                  1\n",
       "Science Team Member #2        1\n",
       "Science Engineer Student      1\n",
       "Science Lecturer              1\n",
       "Science Fair Plane Kid        1\n",
       "Science Assistant             1\n",
       "Science Officer 4             1\n",
       "Science Fair Attendee         1\n",
       "Science Kid 1                 1\n",
       "Science Fair Parent           1\n",
       "Science Project Kid           1\n",
       "Science Tech #4               1\n",
       "Science professor             1\n",
       "Science Teacher Ga-hoo        1\n",
       "Science Tech #1               1\n",
       "Science Geek                  1\n",
       "Name: character, dtype: int64"
      ]
     },
     "execution_count": 70,
     "metadata": {},
     "output_type": "execute_result"
    }
   ],
   "source": [
    "h = cast[cast.character.str.startswith(\"Science\")]\n",
    "h.character.value_counts()"
   ]
  },
  {
   "cell_type": "code",
   "execution_count": null,
   "metadata": {
    "collapsed": true
   },
   "outputs": [],
   "source": []
  },
  {
   "cell_type": "markdown",
   "metadata": {
    "collapsed": true
   },
   "source": [
    "### Plot the n-values of the roles that Judi Dench has played over her career."
   ]
  },
  {
   "cell_type": "code",
   "execution_count": 83,
   "metadata": {
    "collapsed": false
   },
   "outputs": [
    {
     "name": "stderr",
     "output_type": "stream",
     "text": [
      "/Users/sheena/anaconda/lib/python2.7/site-packages/ipykernel/__main__.py:1: FutureWarning: sort(columns=....) is deprecated, use sort_values(by=.....)\n",
      "  if __name__ == '__main__':\n"
     ]
    },
    {
     "data": {
      "text/plain": [
       "<matplotlib.axes._subplots.AxesSubplot at 0x125ea3990>"
      ]
     },
     "execution_count": 83,
     "metadata": {},
     "output_type": "execute_result"
    },
    {
     "data": {
      "image/png": "[encoded data removed]",
      "text/plain": [
       "<matplotlib.figure.Figure at 0x1259fa8d0>"
      ]
     },
     "metadata": {},
     "output_type": "display_data"
    }
   ],
   "source": [
    "Judi = cast[cast.name == 'Judi Dench'].sort('year')\n",
    "Judi1 = Judi[Judi.n.notnull()]\n",
    "Judi1.plot(x='year', y='n', kind='scatter')"
   ]
  },
  {
   "cell_type": "code",
   "execution_count": null,
   "metadata": {
    "collapsed": true
   },
   "outputs": [],
   "source": []
  },
  {
   "cell_type": "markdown",
   "metadata": {
    "collapsed": true
   },
   "source": [
    "### Plot the n-values of Cary Grant's roles through his career."
   ]
  },
  {
   "cell_type": "code",
   "execution_count": 95,
   "metadata": {
    "collapsed": false
   },
   "outputs": [
    {
     "name": "stderr",
     "output_type": "stream",
     "text": [
      "/Users/sheena/anaconda/lib/python2.7/site-packages/ipykernel/__main__.py:1: FutureWarning: sort(columns=....) is deprecated, use sort_values(by=.....)\n",
      "  if __name__ == '__main__':\n"
     ]
    },
    {
     "data": {
      "text/plain": [
       "<matplotlib.axes._subplots.AxesSubplot at 0x15ef28f10>"
      ]
     },
     "execution_count": 95,
     "metadata": {},
     "output_type": "execute_result"
    },
    {
     "data": {
      "image/png": "[encoded data removed]",
      "text/plain": [
       "<matplotlib.figure.Figure at 0x125ea3f10>"
      ]
     },
     "metadata": {},
     "output_type": "display_data"
    }
   ],
   "source": [
    "cg = cast[cast.name == \"Cary Grant\"].sort('year')\n",
    "cg1 = cg[cg.n.notnull()]\n",
    "cg1.plot(x='year', y='n', kind='scatter')"
   ]
  },
  {
   "cell_type": "code",
   "execution_count": null,
   "metadata": {
    "collapsed": true
   },
   "outputs": [],
   "source": []
  },
  {
   "cell_type": "markdown",
   "metadata": {
    "collapsed": true
   },
   "source": [
    "### Plot the n-value of the roles that Sidney Poitier has acted over the years."
   ]
  },
  {
   "cell_type": "code",
   "execution_count": 101,
   "metadata": {
    "collapsed": false
   },
   "outputs": [
    {
     "data": {
      "text/plain": [
       "<matplotlib.axes._subplots.AxesSubplot at 0x12a25ad10>"
      ]
     },
     "execution_count": 101,
     "metadata": {},
     "output_type": "execute_result"
    },
    {
     "data": {
      "image/png": "[encoded data removed]",
      "text/plain": [
       "<matplotlib.figure.Figure at 0x15ef05410>"
      ]
     },
     "metadata": {},
     "output_type": "display_data"
    }
   ],
   "source": [
    "sp = cast[cast.name == 'Sidney Poitier'].sort_values(by='year')\n",
    "sp1 = sp[sp.n.notnull()]\n",
    "sp1.plot(x='year', y='n', kind='scatter')"
   ]
  },
  {
   "cell_type": "code",
   "execution_count": null,
   "metadata": {
    "collapsed": true
   },
   "outputs": [],
   "source": []
  },
  {
   "cell_type": "markdown",
   "metadata": {
    "collapsed": true
   },
   "source": [
    "### How many leading (n=1) roles were available to actors, and how many to actresses, in the 1950s?"
   ]
  },
  {
   "cell_type": "code",
   "execution_count": 114,
   "metadata": {
    "collapsed": false
   },
   "outputs": [
    {
     "data": {
      "text/plain": [
       "actor    6564\n",
       "Name: type, dtype: int64"
      ]
     },
     "execution_count": 114,
     "metadata": {},
     "output_type": "execute_result"
    }
   ],
   "source": [
    "z = cast[(cast.n == 1) & (cast.type == 'actor') & (cast.year >= 1950) & (cast.year <=1959)]\n",
    "z.type.value_counts()"
   ]
  },
  {
   "cell_type": "code",
   "execution_count": 115,
   "metadata": {
    "collapsed": false
   },
   "outputs": [
    {
     "data": {
      "text/plain": [
       "actress    2939\n",
       "Name: type, dtype: int64"
      ]
     },
     "execution_count": 115,
     "metadata": {},
     "output_type": "execute_result"
    }
   ],
   "source": [
    "z1 = cast[(cast.n == 1) & (cast.type == 'actress') & (cast.year >= 1950) & (cast.year <=1959)]\n",
    "z1.type.value_counts()"
   ]
  },
  {
   "cell_type": "markdown",
   "metadata": {
    "collapsed": true
   },
   "source": [
    "### How many supporting (n=2) roles were available to actors, and how many to actresses, in the 1950s?"
   ]
  },
  {
   "cell_type": "code",
   "execution_count": 116,
   "metadata": {
    "collapsed": false
   },
   "outputs": [
    {
     "data": {
      "text/plain": [
       "actor    4528\n",
       "Name: type, dtype: int64"
      ]
     },
     "execution_count": 116,
     "metadata": {},
     "output_type": "execute_result"
    }
   ],
   "source": [
    "z2 = cast[(cast.n == 2) & (cast.type == 'actor') & (cast.year >= 1950) & (cast.year <=1959)]\n",
    "z2.type.value_counts()"
   ]
  },
  {
   "cell_type": "code",
   "execution_count": 117,
   "metadata": {
    "collapsed": false
   },
   "outputs": [
    {
     "data": {
      "text/plain": [
       "actor    4528\n",
       "Name: type, dtype: int64"
      ]
     },
     "execution_count": 117,
     "metadata": {},
     "output_type": "execute_result"
    }
   ],
   "source": [
    "z3 = cast[(cast.n == 2) & (cast.type == 'actor') & (cast.year >= 1950) & (cast.year <=1959)]\n",
    "z3.type.value_counts()"
   ]
  },
  {
   "cell_type": "code",
   "execution_count": 148,
   "metadata": {
    "collapsed": false
   },
   "outputs": [
    {
     "data": {
      "text/html": [
       "<div>\n",
       "<table border=\"1\" class=\"dataframe\">\n",
       "  <thead>\n",
       "    <tr style=\"text-align: right;\">\n",
       "      <th></th>\n",
       "      <th></th>\n",
       "      <th>name</th>\n",
       "      <th>type</th>\n",
       "      <th>character</th>\n",
       "      <th>n</th>\n",
       "    </tr>\n",
       "    <tr>\n",
       "      <th>title</th>\n",
       "      <th>year</th>\n",
       "      <th></th>\n",
       "      <th></th>\n",
       "      <th></th>\n",
       "      <th></th>\n",
       "    </tr>\n",
       "  </thead>\n",
       "  <tbody>\n",
       "    <tr>\n",
       "      <th rowspan=\"30\" valign=\"top\">#1 Serial Killer</th>\n",
       "      <th>2013</th>\n",
       "      <td>Michael Alton</td>\n",
       "      <td>actor</td>\n",
       "      <td>Detective Roberts</td>\n",
       "      <td>17.0</td>\n",
       "    </tr>\n",
       "    <tr>\n",
       "      <th>2013</th>\n",
       "      <td>Aaron Aoki</td>\n",
       "      <td>actor</td>\n",
       "      <td>Plastic Bag Victim</td>\n",
       "      <td>21.0</td>\n",
       "    </tr>\n",
       "    <tr>\n",
       "      <th>2013</th>\n",
       "      <td>Zachary (X) Brown</td>\n",
       "      <td>actor</td>\n",
       "      <td>Africian American Teen</td>\n",
       "      <td>18.0</td>\n",
       "    </tr>\n",
       "    <tr>\n",
       "      <th>2013</th>\n",
       "      <td>Yvis Cannavale</td>\n",
       "      <td>actor</td>\n",
       "      <td>Homeless Man</td>\n",
       "      <td>25.0</td>\n",
       "    </tr>\n",
       "    <tr>\n",
       "      <th>2013</th>\n",
       "      <td>Patrick Chien</td>\n",
       "      <td>actor</td>\n",
       "      <td>Cleaver Victim</td>\n",
       "      <td>22.0</td>\n",
       "    </tr>\n",
       "    <tr>\n",
       "      <th>2013</th>\n",
       "      <td>Matthias Chrans</td>\n",
       "      <td>actor</td>\n",
       "      <td>Brian Bennett</td>\n",
       "      <td>13.0</td>\n",
       "    </tr>\n",
       "    <tr>\n",
       "      <th>2013</th>\n",
       "      <td>Robert Cicchini</td>\n",
       "      <td>actor</td>\n",
       "      <td>Detective Phillips</td>\n",
       "      <td>9.0</td>\n",
       "    </tr>\n",
       "    <tr>\n",
       "      <th>2013</th>\n",
       "      <td>Scott Eriksson</td>\n",
       "      <td>actor</td>\n",
       "      <td>Party Guest</td>\n",
       "      <td>NaN</td>\n",
       "    </tr>\n",
       "    <tr>\n",
       "      <th>2013</th>\n",
       "      <td>Rane Jameson</td>\n",
       "      <td>actor</td>\n",
       "      <td>Micah Betancourt</td>\n",
       "      <td>6.0</td>\n",
       "    </tr>\n",
       "    <tr>\n",
       "      <th>2013</th>\n",
       "      <td>Tzi Ma</td>\n",
       "      <td>actor</td>\n",
       "      <td>Mr. Chang</td>\n",
       "      <td>3.0</td>\n",
       "    </tr>\n",
       "    <tr>\n",
       "      <th>2013</th>\n",
       "      <td>Thomas McCurdy</td>\n",
       "      <td>actor</td>\n",
       "      <td>Golf Club Victim</td>\n",
       "      <td>23.0</td>\n",
       "    </tr>\n",
       "    <tr>\n",
       "      <th>2013</th>\n",
       "      <td>Thomas Isao Morinaka</td>\n",
       "      <td>actor</td>\n",
       "      <td>Policeman #1</td>\n",
       "      <td>19.0</td>\n",
       "    </tr>\n",
       "    <tr>\n",
       "      <th>2013</th>\n",
       "      <td>Parry Shen</td>\n",
       "      <td>actor</td>\n",
       "      <td>Murder Victim</td>\n",
       "      <td>NaN</td>\n",
       "    </tr>\n",
       "    <tr>\n",
       "      <th>2013</th>\n",
       "      <td>Eric (II) St. John</td>\n",
       "      <td>actor</td>\n",
       "      <td>Officer Williams</td>\n",
       "      <td>NaN</td>\n",
       "    </tr>\n",
       "    <tr>\n",
       "      <th>2013</th>\n",
       "      <td>Brian Takahashi</td>\n",
       "      <td>actor</td>\n",
       "      <td>Stabbing Victim</td>\n",
       "      <td>20.0</td>\n",
       "    </tr>\n",
       "    <tr>\n",
       "      <th>2013</th>\n",
       "      <td>Timothy Tau</td>\n",
       "      <td>actor</td>\n",
       "      <td>Police Officer</td>\n",
       "      <td>NaN</td>\n",
       "    </tr>\n",
       "    <tr>\n",
       "      <th>2013</th>\n",
       "      <td>Jason Tobin</td>\n",
       "      <td>actor</td>\n",
       "      <td>Eddy Tsai</td>\n",
       "      <td>1.0</td>\n",
       "    </tr>\n",
       "    <tr>\n",
       "      <th>2013</th>\n",
       "      <td>Jesse Wang</td>\n",
       "      <td>actor</td>\n",
       "      <td>Mr. Tsai</td>\n",
       "      <td>11.0</td>\n",
       "    </tr>\n",
       "    <tr>\n",
       "      <th>2013</th>\n",
       "      <td>Romina Bovolini</td>\n",
       "      <td>actress</td>\n",
       "      <td>Lisa Simpson</td>\n",
       "      <td>14.0</td>\n",
       "    </tr>\n",
       "    <tr>\n",
       "      <th>2013</th>\n",
       "      <td>Shoshana Bush</td>\n",
       "      <td>actress</td>\n",
       "      <td>Tricia Arnold</td>\n",
       "      <td>4.0</td>\n",
       "    </tr>\n",
       "    <tr>\n",
       "      <th>2013</th>\n",
       "      <td>Kasie Callaway</td>\n",
       "      <td>actress</td>\n",
       "      <td>Cathherine</td>\n",
       "      <td>16.0</td>\n",
       "    </tr>\n",
       "    <tr>\n",
       "      <th>2013</th>\n",
       "      <td>Tiley Chao</td>\n",
       "      <td>actress</td>\n",
       "      <td>Mrs. Chang</td>\n",
       "      <td>12.0</td>\n",
       "    </tr>\n",
       "    <tr>\n",
       "      <th>2013</th>\n",
       "      <td>Cindera Che</td>\n",
       "      <td>actress</td>\n",
       "      <td>Mrs. Tsai</td>\n",
       "      <td>10.0</td>\n",
       "    </tr>\n",
       "    <tr>\n",
       "      <th>2013</th>\n",
       "      <td>Kylee Cochran</td>\n",
       "      <td>actress</td>\n",
       "      <td>Jennifer Griffin</td>\n",
       "      <td>NaN</td>\n",
       "    </tr>\n",
       "    <tr>\n",
       "      <th>2013</th>\n",
       "      <td>Kenzie Dalton</td>\n",
       "      <td>actress</td>\n",
       "      <td>Amber Sterling</td>\n",
       "      <td>5.0</td>\n",
       "    </tr>\n",
       "    <tr>\n",
       "      <th>2013</th>\n",
       "      <td>Christie Gaynor</td>\n",
       "      <td>actress</td>\n",
       "      <td>Detective Anderson</td>\n",
       "      <td>8.0</td>\n",
       "    </tr>\n",
       "    <tr>\n",
       "      <th>2013</th>\n",
       "      <td>Ellen (II) Ho</td>\n",
       "      <td>actress</td>\n",
       "      <td>Tiffany Wong</td>\n",
       "      <td>15.0</td>\n",
       "    </tr>\n",
       "    <tr>\n",
       "      <th>2013</th>\n",
       "      <td>Jinxia Ma</td>\n",
       "      <td>actress</td>\n",
       "      <td>Chinese Teacher</td>\n",
       "      <td>24.0</td>\n",
       "    </tr>\n",
       "    <tr>\n",
       "      <th>2013</th>\n",
       "      <td>Gemma Massot</td>\n",
       "      <td>actress</td>\n",
       "      <td>Betty Goodman</td>\n",
       "      <td>7.0</td>\n",
       "    </tr>\n",
       "    <tr>\n",
       "      <th>2013</th>\n",
       "      <td>Eugenia Yuan</td>\n",
       "      <td>actress</td>\n",
       "      <td>Karena Lee</td>\n",
       "      <td>2.0</td>\n",
       "    </tr>\n",
       "    <tr>\n",
       "      <th>...</th>\n",
       "      <th>...</th>\n",
       "      <td>...</td>\n",
       "      <td>...</td>\n",
       "      <td>...</td>\n",
       "      <td>...</td>\n",
       "    </tr>\n",
       "    <tr>\n",
       "      <th rowspan=\"30\" valign=\"top\">xXx: State of the Union</th>\n",
       "      <th>2005</th>\n",
       "      <td>Rick (II) Voight</td>\n",
       "      <td>actor</td>\n",
       "      <td>US Ambassador</td>\n",
       "      <td>NaN</td>\n",
       "    </tr>\n",
       "    <tr>\n",
       "      <th>2005</th>\n",
       "      <td>Glen (II) Walker</td>\n",
       "      <td>actor</td>\n",
       "      <td>Newscaster</td>\n",
       "      <td>25.0</td>\n",
       "    </tr>\n",
       "    <tr>\n",
       "      <th>2005</th>\n",
       "      <td>James D. Weston II</td>\n",
       "      <td>actor</td>\n",
       "      <td>Marine</td>\n",
       "      <td>NaN</td>\n",
       "    </tr>\n",
       "    <tr>\n",
       "      <th>2005</th>\n",
       "      <td>Don Whatley</td>\n",
       "      <td>actor</td>\n",
       "      <td>Political Official</td>\n",
       "      <td>NaN</td>\n",
       "    </tr>\n",
       "    <tr>\n",
       "      <th>2005</th>\n",
       "      <td>Xzibit</td>\n",
       "      <td>actor</td>\n",
       "      <td>Zeke</td>\n",
       "      <td>5.0</td>\n",
       "    </tr>\n",
       "    <tr>\n",
       "      <th>2005</th>\n",
       "      <td>Krystal Browning</td>\n",
       "      <td>actress</td>\n",
       "      <td>Undercover Agent</td>\n",
       "      <td>NaN</td>\n",
       "    </tr>\n",
       "    <tr>\n",
       "      <th>2005</th>\n",
       "      <td>Mary Castro</td>\n",
       "      <td>actress</td>\n",
       "      <td>Waitress at Elwood Diner</td>\n",
       "      <td>NaN</td>\n",
       "    </tr>\n",
       "    <tr>\n",
       "      <th>2005</th>\n",
       "      <td>Eos Chater</td>\n",
       "      <td>actress</td>\n",
       "      <td>String Quartet</td>\n",
       "      <td>NaN</td>\n",
       "    </tr>\n",
       "    <tr>\n",
       "      <th>2005</th>\n",
       "      <td>Tania Davis</td>\n",
       "      <td>actress</td>\n",
       "      <td>String Quartet</td>\n",
       "      <td>NaN</td>\n",
       "    </tr>\n",
       "    <tr>\n",
       "      <th>2005</th>\n",
       "      <td>Haylie Ecker</td>\n",
       "      <td>actress</td>\n",
       "      <td>String Quartet</td>\n",
       "      <td>NaN</td>\n",
       "    </tr>\n",
       "    <tr>\n",
       "      <th>2005</th>\n",
       "      <td>Nona Gaye</td>\n",
       "      <td>actress</td>\n",
       "      <td>Lola Jackson</td>\n",
       "      <td>9.0</td>\n",
       "    </tr>\n",
       "    <tr>\n",
       "      <th>2005</th>\n",
       "      <td>Priscilla Hopkins</td>\n",
       "      <td>actress</td>\n",
       "      <td>Tourist</td>\n",
       "      <td>NaN</td>\n",
       "    </tr>\n",
       "    <tr>\n",
       "      <th>2005</th>\n",
       "      <td>Courtney Mykelle Howard</td>\n",
       "      <td>actress</td>\n",
       "      <td>Chop Shop Blonde</td>\n",
       "      <td>NaN</td>\n",
       "    </tr>\n",
       "    <tr>\n",
       "      <th>2005</th>\n",
       "      <td>Lisa Joyner</td>\n",
       "      <td>actress</td>\n",
       "      <td>Field Reporter at Fire</td>\n",
       "      <td>21.0</td>\n",
       "    </tr>\n",
       "    <tr>\n",
       "      <th>2005</th>\n",
       "      <td>Tia Latrell</td>\n",
       "      <td>actress</td>\n",
       "      <td>Political Campaigner</td>\n",
       "      <td>NaN</td>\n",
       "    </tr>\n",
       "    <tr>\n",
       "      <th>2005</th>\n",
       "      <td>Danielle Lazarus</td>\n",
       "      <td>actress</td>\n",
       "      <td>Secret Service Agent</td>\n",
       "      <td>NaN</td>\n",
       "    </tr>\n",
       "    <tr>\n",
       "      <th>2005</th>\n",
       "      <td>Sunny Mabrey</td>\n",
       "      <td>actress</td>\n",
       "      <td>Charlie Mayweather</td>\n",
       "      <td>8.0</td>\n",
       "    </tr>\n",
       "    <tr>\n",
       "      <th>2005</th>\n",
       "      <td>Sarah Mack</td>\n",
       "      <td>actress</td>\n",
       "      <td>Presidential Aide</td>\n",
       "      <td>36.0</td>\n",
       "    </tr>\n",
       "    <tr>\n",
       "      <th>2005</th>\n",
       "      <td>Masuimi Max</td>\n",
       "      <td>actress</td>\n",
       "      <td>Zeke's Girlfriend</td>\n",
       "      <td>NaN</td>\n",
       "    </tr>\n",
       "    <tr>\n",
       "      <th>2005</th>\n",
       "      <td>Gwen Mihok</td>\n",
       "      <td>actress</td>\n",
       "      <td>Field Reporter</td>\n",
       "      <td>NaN</td>\n",
       "    </tr>\n",
       "    <tr>\n",
       "      <th>2005</th>\n",
       "      <td>Leyna Nguyen</td>\n",
       "      <td>actress</td>\n",
       "      <td>Newscaster</td>\n",
       "      <td>26.0</td>\n",
       "    </tr>\n",
       "    <tr>\n",
       "      <th>2005</th>\n",
       "      <td>Oksana Orlan</td>\n",
       "      <td>actress</td>\n",
       "      <td>Trophy wife</td>\n",
       "      <td>NaN</td>\n",
       "    </tr>\n",
       "    <tr>\n",
       "      <th>2005</th>\n",
       "      <td>Lil Rhee</td>\n",
       "      <td>actress</td>\n",
       "      <td>DC Resident</td>\n",
       "      <td>NaN</td>\n",
       "    </tr>\n",
       "    <tr>\n",
       "      <th>2005</th>\n",
       "      <td>Toni Russell</td>\n",
       "      <td>actress</td>\n",
       "      <td>Diplomat</td>\n",
       "      <td>NaN</td>\n",
       "    </tr>\n",
       "    <tr>\n",
       "      <th>2005</th>\n",
       "      <td>Jeanne Sakata</td>\n",
       "      <td>actress</td>\n",
       "      <td>Field Reporter</td>\n",
       "      <td>27.0</td>\n",
       "    </tr>\n",
       "    <tr>\n",
       "      <th>2005</th>\n",
       "      <td>Deborah S. Smith</td>\n",
       "      <td>actress</td>\n",
       "      <td>Business Woman</td>\n",
       "      <td>NaN</td>\n",
       "    </tr>\n",
       "    <tr>\n",
       "      <th>2005</th>\n",
       "      <td>Gina St. John</td>\n",
       "      <td>actress</td>\n",
       "      <td>Field Reporter</td>\n",
       "      <td>28.0</td>\n",
       "    </tr>\n",
       "    <tr>\n",
       "      <th>2005</th>\n",
       "      <td>Paola (III) Torres</td>\n",
       "      <td>actress</td>\n",
       "      <td>DC Executive</td>\n",
       "      <td>NaN</td>\n",
       "    </tr>\n",
       "    <tr>\n",
       "      <th>2005</th>\n",
       "      <td>Samantha Tyler</td>\n",
       "      <td>actress</td>\n",
       "      <td>Corvette Girl</td>\n",
       "      <td>38.0</td>\n",
       "    </tr>\n",
       "    <tr>\n",
       "      <th>2005</th>\n",
       "      <td>Gay-Yee Westerhoff</td>\n",
       "      <td>actress</td>\n",
       "      <td>String Quartet</td>\n",
       "      <td>NaN</td>\n",
       "    </tr>\n",
       "  </tbody>\n",
       "</table>\n",
       "<p>3554507 rows × 4 columns</p>\n",
       "</div>"
      ],
      "text/plain": [
       "                                                 name     type  \\\n",
       "title                   year                                     \n",
       "#1 Serial Killer        2013            Michael Alton    actor   \n",
       "                        2013               Aaron Aoki    actor   \n",
       "                        2013        Zachary (X) Brown    actor   \n",
       "                        2013           Yvis Cannavale    actor   \n",
       "                        2013            Patrick Chien    actor   \n",
       "                        2013          Matthias Chrans    actor   \n",
       "                        2013          Robert Cicchini    actor   \n",
       "                        2013           Scott Eriksson    actor   \n",
       "                        2013             Rane Jameson    actor   \n",
       "                        2013                   Tzi Ma    actor   \n",
       "                        2013           Thomas McCurdy    actor   \n",
       "                        2013     Thomas Isao Morinaka    actor   \n",
       "                        2013               Parry Shen    actor   \n",
       "                        2013       Eric (II) St. John    actor   \n",
       "                        2013          Brian Takahashi    actor   \n",
       "                        2013              Timothy Tau    actor   \n",
       "                        2013              Jason Tobin    actor   \n",
       "                        2013               Jesse Wang    actor   \n",
       "                        2013          Romina Bovolini  actress   \n",
       "                        2013            Shoshana Bush  actress   \n",
       "                        2013           Kasie Callaway  actress   \n",
       "                        2013               Tiley Chao  actress   \n",
       "                        2013              Cindera Che  actress   \n",
       "                        2013            Kylee Cochran  actress   \n",
       "                        2013            Kenzie Dalton  actress   \n",
       "                        2013          Christie Gaynor  actress   \n",
       "                        2013            Ellen (II) Ho  actress   \n",
       "                        2013                Jinxia Ma  actress   \n",
       "                        2013             Gemma Massot  actress   \n",
       "                        2013             Eugenia Yuan  actress   \n",
       "...                                               ...      ...   \n",
       "xXx: State of the Union 2005         Rick (II) Voight    actor   \n",
       "                        2005         Glen (II) Walker    actor   \n",
       "                        2005       James D. Weston II    actor   \n",
       "                        2005              Don Whatley    actor   \n",
       "                        2005                   Xzibit    actor   \n",
       "                        2005         Krystal Browning  actress   \n",
       "                        2005              Mary Castro  actress   \n",
       "                        2005               Eos Chater  actress   \n",
       "                        2005              Tania Davis  actress   \n",
       "                        2005             Haylie Ecker  actress   \n",
       "                        2005                Nona Gaye  actress   \n",
       "                        2005        Priscilla Hopkins  actress   \n",
       "                        2005  Courtney Mykelle Howard  actress   \n",
       "                        2005              Lisa Joyner  actress   \n",
       "                        2005              Tia Latrell  actress   \n",
       "                        2005         Danielle Lazarus  actress   \n",
       "                        2005             Sunny Mabrey  actress   \n",
       "                        2005               Sarah Mack  actress   \n",
       "                        2005              Masuimi Max  actress   \n",
       "                        2005               Gwen Mihok  actress   \n",
       "                        2005             Leyna Nguyen  actress   \n",
       "                        2005             Oksana Orlan  actress   \n",
       "                        2005                 Lil Rhee  actress   \n",
       "                        2005             Toni Russell  actress   \n",
       "                        2005            Jeanne Sakata  actress   \n",
       "                        2005         Deborah S. Smith  actress   \n",
       "                        2005            Gina St. John  actress   \n",
       "                        2005       Paola (III) Torres  actress   \n",
       "                        2005           Samantha Tyler  actress   \n",
       "                        2005       Gay-Yee Westerhoff  actress   \n",
       "\n",
       "                                             character     n  \n",
       "title                   year                                  \n",
       "#1 Serial Killer        2013         Detective Roberts  17.0  \n",
       "                        2013        Plastic Bag Victim  21.0  \n",
       "                        2013    Africian American Teen  18.0  \n",
       "                        2013              Homeless Man  25.0  \n",
       "                        2013            Cleaver Victim  22.0  \n",
       "                        2013             Brian Bennett  13.0  \n",
       "                        2013        Detective Phillips   9.0  \n",
       "                        2013               Party Guest   NaN  \n",
       "                        2013          Micah Betancourt   6.0  \n",
       "                        2013                 Mr. Chang   3.0  \n",
       "                        2013          Golf Club Victim  23.0  \n",
       "                        2013              Policeman #1  19.0  \n",
       "                        2013             Murder Victim   NaN  \n",
       "                        2013          Officer Williams   NaN  \n",
       "                        2013           Stabbing Victim  20.0  \n",
       "                        2013            Police Officer   NaN  \n",
       "                        2013                 Eddy Tsai   1.0  \n",
       "                        2013                  Mr. Tsai  11.0  \n",
       "                        2013              Lisa Simpson  14.0  \n",
       "                        2013             Tricia Arnold   4.0  \n",
       "                        2013                Cathherine  16.0  \n",
       "                        2013                Mrs. Chang  12.0  \n",
       "                        2013                 Mrs. Tsai  10.0  \n",
       "                        2013          Jennifer Griffin   NaN  \n",
       "                        2013            Amber Sterling   5.0  \n",
       "                        2013        Detective Anderson   8.0  \n",
       "                        2013              Tiffany Wong  15.0  \n",
       "                        2013           Chinese Teacher  24.0  \n",
       "                        2013             Betty Goodman   7.0  \n",
       "                        2013                Karena Lee   2.0  \n",
       "...                                                ...   ...  \n",
       "xXx: State of the Union 2005             US Ambassador   NaN  \n",
       "                        2005                Newscaster  25.0  \n",
       "                        2005                    Marine   NaN  \n",
       "                        2005        Political Official   NaN  \n",
       "                        2005                      Zeke   5.0  \n",
       "                        2005          Undercover Agent   NaN  \n",
       "                        2005  Waitress at Elwood Diner   NaN  \n",
       "                        2005            String Quartet   NaN  \n",
       "                        2005            String Quartet   NaN  \n",
       "                        2005            String Quartet   NaN  \n",
       "                        2005              Lola Jackson   9.0  \n",
       "                        2005                   Tourist   NaN  \n",
       "                        2005          Chop Shop Blonde   NaN  \n",
       "                        2005    Field Reporter at Fire  21.0  \n",
       "                        2005      Political Campaigner   NaN  \n",
       "                        2005      Secret Service Agent   NaN  \n",
       "                        2005        Charlie Mayweather   8.0  \n",
       "                        2005         Presidential Aide  36.0  \n",
       "                        2005         Zeke's Girlfriend   NaN  \n",
       "                        2005            Field Reporter   NaN  \n",
       "                        2005                Newscaster  26.0  \n",
       "                        2005               Trophy wife   NaN  \n",
       "                        2005               DC Resident   NaN  \n",
       "                        2005                  Diplomat   NaN  \n",
       "                        2005            Field Reporter  27.0  \n",
       "                        2005            Business Woman   NaN  \n",
       "                        2005            Field Reporter  28.0  \n",
       "                        2005              DC Executive   NaN  \n",
       "                        2005             Corvette Girl  38.0  \n",
       "                        2005            String Quartet   NaN  \n",
       "\n",
       "[3554507 rows x 4 columns]"
      ]
     },
     "execution_count": 148,
     "metadata": {},
     "output_type": "execute_result"
    }
   ],
   "source": [
    "h = cast.set_index(['title', 'year']).sort_index()\n",
    "h"
   ]
  },
  {
   "cell_type": "code",
   "execution_count": 141,
   "metadata": {
    "collapsed": false
   },
   "outputs": [
    {
     "data": {
      "text/html": [
       "<div>\n",
       "<table border=\"1\" class=\"dataframe\">\n",
       "  <thead>\n",
       "    <tr style=\"text-align: right;\">\n",
       "      <th></th>\n",
       "      <th>name</th>\n",
       "      <th>type</th>\n",
       "      <th>character</th>\n",
       "      <th>n</th>\n",
       "    </tr>\n",
       "    <tr>\n",
       "      <th>year</th>\n",
       "      <th></th>\n",
       "      <th></th>\n",
       "      <th></th>\n",
       "      <th></th>\n",
       "    </tr>\n",
       "  </thead>\n",
       "  <tbody>\n",
       "    <tr>\n",
       "      <th>1972</th>\n",
       "      <td>Michael Caine</td>\n",
       "      <td>actor</td>\n",
       "      <td>Milo Tindle</td>\n",
       "      <td>2.0</td>\n",
       "    </tr>\n",
       "    <tr>\n",
       "      <th>1972</th>\n",
       "      <td>Alec Cawthorne</td>\n",
       "      <td>actor</td>\n",
       "      <td>Inspector Doppler</td>\n",
       "      <td>3.0</td>\n",
       "    </tr>\n",
       "    <tr>\n",
       "      <th>1972</th>\n",
       "      <td>Teddy Martin</td>\n",
       "      <td>actor</td>\n",
       "      <td>Police Constable Higgs</td>\n",
       "      <td>6.0</td>\n",
       "    </tr>\n",
       "    <tr>\n",
       "      <th>1972</th>\n",
       "      <td>John (II) Matthews</td>\n",
       "      <td>actor</td>\n",
       "      <td>Detective Sergeant Tarrant</td>\n",
       "      <td>4.0</td>\n",
       "    </tr>\n",
       "    <tr>\n",
       "      <th>1972</th>\n",
       "      <td>Laurence Olivier</td>\n",
       "      <td>actor</td>\n",
       "      <td>Andrew Wyke</td>\n",
       "      <td>1.0</td>\n",
       "    </tr>\n",
       "    <tr>\n",
       "      <th>1972</th>\n",
       "      <td>Eve (III) Channing</td>\n",
       "      <td>actress</td>\n",
       "      <td>Marguerite Wyke</td>\n",
       "      <td>5.0</td>\n",
       "    </tr>\n",
       "  </tbody>\n",
       "</table>\n",
       "</div>"
      ],
      "text/plain": [
       "                    name     type                   character    n\n",
       "year                                                              \n",
       "1972       Michael Caine    actor                 Milo Tindle  2.0\n",
       "1972      Alec Cawthorne    actor           Inspector Doppler  3.0\n",
       "1972        Teddy Martin    actor      Police Constable Higgs  6.0\n",
       "1972  John (II) Matthews    actor  Detective Sergeant Tarrant  4.0\n",
       "1972    Laurence Olivier    actor                 Andrew Wyke  1.0\n",
       "1972  Eve (III) Channing  actress             Marguerite Wyke  5.0"
      ]
     },
     "execution_count": 141,
     "metadata": {},
     "output_type": "execute_result"
    }
   ],
   "source": [
    "h.loc['Sleuth'].loc[1972]"
   ]
  },
  {
   "cell_type": "code",
   "execution_count": 142,
   "metadata": {
    "collapsed": false
   },
   "outputs": [
    {
     "ename": "AttributeError",
     "evalue": "'DataFrame' object has no attribute 'str'",
     "output_type": "error",
     "traceback": [
      "\u001b[0;31m---------------------------------------------------------------------------\u001b[0m",
      "\u001b[0;31mAttributeError\u001b[0m                            Traceback (most recent call last)",
      "\u001b[0;32m<ipython-input-142-de2d08751403>\u001b[0m in \u001b[0;36m<module>\u001b[0;34m()\u001b[0m\n\u001b[0;32m----> 1\u001b[0;31m \u001b[0mh\u001b[0m\u001b[0;34m.\u001b[0m\u001b[0mloc\u001b[0m\u001b[0;34m[\u001b[0m\u001b[0mh\u001b[0m\u001b[0;34m.\u001b[0m\u001b[0mstr\u001b[0m\u001b[0;34m.\u001b[0m\u001b[0mstartswith\u001b[0m\u001b[0;34m(\u001b[0m\u001b[0;34m'Bye'\u001b[0m\u001b[0;34m,\u001b[0m \u001b[0mna\u001b[0m\u001b[0;34m=\u001b[0m\u001b[0mFalse\u001b[0m\u001b[0;34m)\u001b[0m\u001b[0;34m]\u001b[0m\u001b[0;34m\u001b[0m\u001b[0m\n\u001b[0m",
      "\u001b[0;32m/Users/sheena/anaconda/lib/python2.7/site-packages/pandas/core/generic.pyc\u001b[0m in \u001b[0;36m__getattr__\u001b[0;34m(self, name)\u001b[0m\n\u001b[1;32m   2670\u001b[0m             \u001b[0;32mif\u001b[0m \u001b[0mname\u001b[0m \u001b[0;32min\u001b[0m \u001b[0mself\u001b[0m\u001b[0;34m.\u001b[0m\u001b[0m_info_axis\u001b[0m\u001b[0;34m:\u001b[0m\u001b[0;34m\u001b[0m\u001b[0m\n\u001b[1;32m   2671\u001b[0m                 \u001b[0;32mreturn\u001b[0m \u001b[0mself\u001b[0m\u001b[0;34m[\u001b[0m\u001b[0mname\u001b[0m\u001b[0;34m]\u001b[0m\u001b[0;34m\u001b[0m\u001b[0m\n\u001b[0;32m-> 2672\u001b[0;31m             \u001b[0;32mreturn\u001b[0m \u001b[0mobject\u001b[0m\u001b[0;34m.\u001b[0m\u001b[0m__getattribute__\u001b[0m\u001b[0;34m(\u001b[0m\u001b[0mself\u001b[0m\u001b[0;34m,\u001b[0m \u001b[0mname\u001b[0m\u001b[0;34m)\u001b[0m\u001b[0;34m\u001b[0m\u001b[0m\n\u001b[0m\u001b[1;32m   2673\u001b[0m \u001b[0;34m\u001b[0m\u001b[0m\n\u001b[1;32m   2674\u001b[0m     \u001b[0;32mdef\u001b[0m \u001b[0m__setattr__\u001b[0m\u001b[0;34m(\u001b[0m\u001b[0mself\u001b[0m\u001b[0;34m,\u001b[0m \u001b[0mname\u001b[0m\u001b[0;34m,\u001b[0m \u001b[0mvalue\u001b[0m\u001b[0;34m)\u001b[0m\u001b[0;34m:\u001b[0m\u001b[0;34m\u001b[0m\u001b[0m\n",
      "\u001b[0;31mAttributeError\u001b[0m: 'DataFrame' object has no attribute 'str'"
     ]
    }
   ],
   "source": [
    "h.loc[h.str.startswith('Bye', na=False)]"
   ]
  },
  {
   "cell_type": "code",
   "execution_count": null,
   "metadata": {
    "collapsed": true
   },
   "outputs": [],
   "source": [
    "h = cast[cast.character.str.startswith(\"Science\")]"
   ]
  },
  {
   "cell_type": "code",
   "execution_count": 156,
   "metadata": {
    "collapsed": false
   },
   "outputs": [
    {
     "data": {
      "text/plain": [
       "<pandas.core.groupby.DataFrameGroupBy object at 0x16d6e7250>"
      ]
     },
     "execution_count": 156,
     "metadata": {},
     "output_type": "execute_result"
    }
   ],
   "source": [
    "cast.groupby(['name','n'])"
   ]
  },
  {
   "cell_type": "code",
   "execution_count": 172,
   "metadata": {
    "collapsed": false
   },
   "outputs": [
    {
     "data": {
      "text/plain": [
       "year\n",
       "1908     12.0\n",
       "1913      5.0\n",
       "1914     15.0\n",
       "1915     20.0\n",
       "1917      7.0\n",
       "1918      8.0\n",
       "1919     15.0\n",
       "1920     14.0\n",
       "1921      5.0\n",
       "1922     14.0\n",
       "1923     31.0\n",
       "1924     16.0\n",
       "1925     10.0\n",
       "1926      7.0\n",
       "1927      6.0\n",
       "1928      2.0\n",
       "1929     23.0\n",
       "1930     35.0\n",
       "1931      4.0\n",
       "1932     10.0\n",
       "1933      NaN\n",
       "1934     22.0\n",
       "1935     75.0\n",
       "1936     12.0\n",
       "1937     13.0\n",
       "1938      NaN\n",
       "1939      2.0\n",
       "1940     10.0\n",
       "1941     10.0\n",
       "1943     12.0\n",
       "        ...  \n",
       "1989     47.0\n",
       "1990     60.0\n",
       "1991     51.0\n",
       "1992     92.0\n",
       "1993     84.0\n",
       "1994    102.0\n",
       "1995     65.0\n",
       "1996    126.0\n",
       "1997     92.0\n",
       "1998    102.0\n",
       "1999     72.0\n",
       "2000    117.0\n",
       "2001     72.0\n",
       "2002    103.0\n",
       "2003     93.0\n",
       "2004     60.0\n",
       "2005     55.0\n",
       "2006    155.0\n",
       "2007     83.0\n",
       "2008     52.0\n",
       "2009    157.0\n",
       "2010     62.0\n",
       "2011     48.0\n",
       "2012    131.0\n",
       "2013     80.0\n",
       "2014     90.0\n",
       "2015     74.0\n",
       "2016    621.0\n",
       "2017     86.0\n",
       "2018      NaN\n",
       "Name: n, dtype: float64"
      ]
     },
     "execution_count": 172,
     "metadata": {},
     "output_type": "execute_result"
    }
   ],
   "source": [
    "e.groupby(['year']).n.max()"
   ]
  },
  {
   "cell_type": "code",
   "execution_count": null,
   "metadata": {
    "collapsed": true
   },
   "outputs": [],
   "source": []
  }
 ],
 "metadata": {
  "kernelspec": {
   "display_name": "Python 2",
   "language": "python",
   "name": "python2"
  },
  "language_info": {
   "codemirror_mode": {
    "name": "ipython",
    "version": 2
   },
   "file_extension": ".py",
   "mimetype": "text/x-python",
   "name": "python",
   "nbconvert_exporter": "python",
   "pygments_lexer": "ipython2",
   "version": "2.7.12"
  }
 },
 "nbformat": 4,
 "nbformat_minor": 0
}
